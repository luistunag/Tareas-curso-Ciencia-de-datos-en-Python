{
 "cells": [
  {
   "cell_type": "markdown",
   "id": "e2b3cff8-337e-4d6d-a32e-6debbad4cd59",
   "metadata": {
    "collapsed": false
   },
   "source": [
    "# Nombre: Luis Ricardo Tun Aguilar\n",
    "# Carnet: 22003085\n"
   ]
  },
  {
   "cell_type": "markdown",
   "id": "079b526b-ce12-4583-84af-0b072ebfa1c2",
   "metadata": {
    "collapsed": false
   },
   "source": [
    "# Parte 1: Numpy\n"
   ]
  },
  {
   "cell_type": "markdown",
   "id": "d43c27aa-9b93-4a29-ad32-beea8e788da7",
   "metadata": {
    "collapsed": false
   },
   "source": [
    "# ¿Cuál es el tamaño en bytes de un array de 1000 elementos de tipo booleano?\n"
   ]
  },
  {
   "cell_type": "code",
   "execution_count": null,
   "id": "d0eb63d3-7801-46f8-b834-5f5bfe5fe2a4",
   "metadata": {
    "collapsed": false
   },
   "outputs": [],
   "source": []
  }
 ],
 "metadata": {
  "kernelspec": {
   "argv": [
    "python",
    "-m",
    "ipykernel_launcher",
    "-f",
    "{connection_file}"
   ],
   "display_name": "Python 3 (ipykernel)",
   "env": null,
   "interrupt_mode": "signal",
   "language": "python",
   "metadata": {
    "debugger": true
   },
   "name": "python3"
  },
  "name": "22003085_LuisTun_Laboratorio3.ipynb"
 },
 "nbformat": 4,
 "nbformat_minor": 5
}
