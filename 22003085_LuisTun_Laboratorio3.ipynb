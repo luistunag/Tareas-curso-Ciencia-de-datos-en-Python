{
 "cells": [
  {
   "cell_type": "markdown",
   "id": "e2b3cff8-337e-4d6d-a32e-6debbad4cd59",
   "metadata": {
    "collapsed": false
   },
   "source": [
    "# Nombre: Luis Ricardo Tun Aguilar\n",
    "# Carnet: 22003085\n"
   ]
  },
  {
   "cell_type": "markdown",
   "id": "079b526b-ce12-4583-84af-0b072ebfa1c2",
   "metadata": {
    "collapsed": false
   },
   "source": [
    "# Parte 1: Numpy\n"
   ]
  },
  {
   "cell_type": "markdown",
   "id": "d43c27aa-9b93-4a29-ad32-beea8e788da7",
   "metadata": {
    "collapsed": false
   },
   "source": [
    "# 1)  ¿Cuál es el tamaño en bytes de un array de 1000 elementos de tipo booleano?\n"
   ]
  },
  {
   "cell_type": "code",
   "execution_count": 1,
   "id": "d0eb63d3-7801-46f8-b834-5f5bfe5fe2a4",
   "metadata": {
    "collapsed": false
   },
   "outputs": [],
   "source": [
    "import numpy as np"
   ]
  },
  {
   "cell_type": "code",
   "execution_count": 2,
   "id": "5bef4ec0-ab3a-429b-ab67-ee6facaaff1a",
   "metadata": {
    "collapsed": false
   },
   "outputs": [
    {
     "name": "stdout",
     "output_type": "stream",
     "text": [
      "El tamaño en bytes del array de booleanos es: 1000 bytes\n"
     ]
    }
   ],
   "source": [
    "# Crea un array de booleanos con 1000 elementos\n",
    "boolean_array = np.full(1000, True, dtype=bool)\n",
    "\n",
    "# Obtiene el tamaño en bytes\n",
    "size_in_bytes = boolean_array.nbytes\n",
    "\n",
    "print(f\"El tamaño en bytes del array de booleanos es: {size_in_bytes} bytes\")"
   ]
  },
  {
   "cell_type": "markdown",
   "id": "eb72d560-31d5-4acc-b713-e4a9d7f6210c",
   "metadata": {
    "collapsed": false
   },
   "source": [
    "2) 2) Cree un array cuyos elementos sean los enteros pares en [1,100] y en orden decreciente. Muestre los 10 últimos por pantalla.\n"
   ]
  },
  {
   "cell_type": "code",
   "execution_count": 75,
   "id": "51fbe8f6-d48c-456b-ae6b-b5e9386eddeb",
   "metadata": {
    "collapsed": false
   },
   "outputs": [
    {
     "name": "stdout",
     "output_type": "stream",
     "text": [
      "Los 10 últimos elementos son: [20 18 16 14 12 10  8  6  4  2]\n"
     ]
    }
   ],
   "source": [
    "# Crea un array de enteros pares en [1, 100] en orden decreciente\n",
    "enteros_pares_decrecientes = np.arange(100, 0, -2)\n",
    "\n",
    "# Muestra los últimos 10 elementos por pantalla\n",
    "ultimos_10_elementos = enteros_pares_decrecientes[-10:]\n",
    "print(f\"Los 10 últimos elementos son: {ultimos_10_elementos}\")"
   ]
  },
  {
   "cell_type": "markdown",
   "id": "0a52301d-ea99-4fdd-a240-b3c2ad34e49f",
   "metadata": {
    "collapsed": false
   },
   "source": [
    "# 3) Dado el array\n",
    "    2 4 5 6\n",
    "    0 3 7 4\n",
    "    8 8 5 2\n",
    "    1 5 6 1\n",
    "Seleccione con una instrucción el subarray de elementos\n",
    "    0 3 7 4\n",
    "Después, seleccione el subarray de elementos\n",
    "    2 5\n",
    "    8 5\n",
    "    "
   ]
  },
  {
   "cell_type": "code",
   "execution_count": 77,
   "id": "0f76bc3b-907e-4b25-a820-e722fdf31910",
   "metadata": {
    "collapsed": false
   },
   "outputs": [
    {
     "name": "stdout",
     "output_type": "stream",
     "text": [
      "Subarray 1: \n",
      " [0 3 7 4]\n",
      "\n",
      "Subarray 2: \n",
      " [[2 5]\n",
      " [8 5]]\n"
     ]
    }
   ],
   "source": [
    "import numpy as np\n",
    "\n",
    "# Crea el array dado\n",
    "mi_array = np.array([\n",
    "    [2, 4, 5, 6],\n",
    "    [0, 3, 7, 4],\n",
    "    [8, 8, 5, 2],\n",
    "    [1, 5, 6, 1]\n",
    "])\n",
    "\n",
    "# Selecciona el subarray [0 3 7 4]\n",
    "subarray1 = mi_array[1, 0:5]\n",
    "print(f\"Subarray 1: \\n {subarray1}\")\n",
    "\n",
    "# Selecciona el subarray [[2 5]\n",
    "#                           [8 5]]\n",
    "subarray2 = mi_array[0:3:2, 0:3:2]\n",
    "print(f\"\\nSubarray 2: \\n {subarray2}\")"
   ]
  },
  {
   "cell_type": "markdown",
   "id": "f2043e5f-4562-4871-aa65-c5ab3c801178",
   "metadata": {
    "collapsed": false
   },
   "source": [
    "# 4) Dados los arrays a = [1, 4, 2, 7] y b = [1, 3, 2, 9], obtenga la media aritmética de la diferencia (a-b).\n"
   ]
  },
  {
   "cell_type": "code",
   "execution_count": 78,
   "id": "cd10588a-0ad4-44b5-8b29-f8d2207e81ae",
   "metadata": {
    "collapsed": false
   },
   "outputs": [
    {
     "name": "stdout",
     "output_type": "stream",
     "text": [
      "La diferencia es: [ 0  1  0 -2]\n",
      "La media aritmética de la diferencia (a - b) es: -0.25\n"
     ]
    }
   ],
   "source": [
    "# Define los arrays a y b\n",
    "a = np.array([1, 4, 2, 7])\n",
    "b = np.array([1, 3, 2, 9])\n",
    "\n",
    "# Calcula la diferencia entre los arrays\n",
    "diferencia = a - b\n",
    "\n",
    "# Calcula la media aritmética de la diferencia\n",
    "media_aritmetica = np.mean(diferencia)\n",
    "\n",
    "print(f\"La diferencia es: {diferencia}\")\n",
    "print(f\"La media aritmética de la diferencia (a - b) es: {media_aritmetica}\")"
   ]
  },
  {
   "cell_type": "markdown",
   "id": "9e6228e7-33ce-4f0a-9c96-c728968c8fab",
   "metadata": {
    "collapsed": false
   },
   "source": [
    "# 5) Tengo valores de cordenadas (x, y) en las columnas del array\n",
    "    1.33 4.5\n",
    "    30.0 10.7\n",
    "    70.2 0.5\n",
    "Agregue a este array las coordenadas (37.1, -3.6). Muestre en pantalla las dimensiones del nuevo array."
   ]
  },
  {
   "cell_type": "code",
   "execution_count": 79,
   "id": "bc73c167-aa99-40c1-953d-4fb08a2185c6",
   "metadata": {
    "collapsed": false
   },
   "outputs": [
    {
     "name": "stdout",
     "output_type": "stream",
     "text": [
      "Array original: \n",
      " [[ 1.33  4.5 ]\n",
      " [30.   10.7 ]\n",
      " [70.2   0.5 ]]\n",
      "Nuevo array: \n",
      " [[ 1.33  4.5 ]\n",
      " [30.   10.7 ]\n",
      " [70.2   0.5 ]\n",
      " [37.1  -3.6 ]]\n",
      "Dimensiones del nuevo array: (4, 2)\n"
     ]
    }
   ],
   "source": [
    "# Array original\n",
    "array_original = np.array([\n",
    "    [1.33, 4.5],\n",
    "    [30.0, 10.7],\n",
    "    [70.2, 0.5]\n",
    "])\n",
    "\n",
    "# Nuevas coordenadas a agregar\n",
    "nuevas_coordenadas = np.array([37.1, -3.6])\n",
    "\n",
    "# Agrega las nuevas coordenadas al array original\n",
    "nuevo_array = np.vstack([array_original, nuevas_coordenadas])\n",
    "\n",
    "# Muestra las dimensiones del nuevo array\n",
    "dimensiones_nuevo_array = nuevo_array.shape\n",
    "\n",
    "print(f\"Array original: \\n {array_original}\")\n",
    "print(f\"Nuevo array: \\n {nuevo_array}\")\n",
    "print(f\"Dimensiones del nuevo array: {dimensiones_nuevo_array}\")"
   ]
  },
  {
   "cell_type": "markdown",
   "id": "afadc41a-f098-442f-ae2f-b8e6bbeb2eef",
   "metadata": {
    "collapsed": false
   },
   "source": [
    "# 6) Copie el array del ejercicio anterior. Traspóngalo (Agregue ahora dos nuevos pares de coordenadas: (10.8, 3.0) y (35.8, 12.0).\n"
   ]
  },
  {
   "cell_type": "code",
   "execution_count": 80,
   "id": "8e392b63-2e3b-4f52-abcf-124b7b2f3811",
   "metadata": {
    "collapsed": false
   },
   "outputs": [
    {
     "name": "stdout",
     "output_type": "stream",
     "text": [
      "Array original: \n",
      " [[ 1.33  4.5 ]\n",
      " [30.   10.7 ]\n",
      " [70.2   0.5 ]\n",
      " [37.1  -3.6 ]]\n",
      "Array transpuesto: \n",
      " [[ 1.33 30.   70.2  37.1 ]\n",
      " [ 4.5  10.7   0.5  -3.6 ]]\n",
      "Array transpuesto con nuevas coordenadas: \n",
      " [[ 1.33 30.   70.2  37.1  10.8  35.8 ]\n",
      " [ 4.5  10.7   0.5  -3.6   3.   12.  ]]\n"
     ]
    }
   ],
   "source": [
    "\n",
    "# Traspone el array\n",
    "array_traspuesto = np.transpose(nuevo_array)\n",
    "\n",
    "# Agrega dos nuevos pares de coordenadas al array traspuesto\n",
    "nuevo_par_coordenada1 = np.array([[10.8], [3.0]])\n",
    "nuevo_par_coordenada2 = np.array([[35.8], [12.0]])\n",
    "array_traspuesto_extendido = np.hstack([array_traspuesto, nuevo_par_coordenada1, nuevo_par_coordenada2])\n",
    "\n",
    "print(f\"Array original: \\n {nuevo_array}\")\n",
    "print(f\"Array transpuesto: \\n {array_traspuesto}\")\n",
    "print(f\"Array transpuesto con nuevas coordenadas: \\n {array_traspuesto_extendido}\")"
   ]
  },
  {
   "cell_type": "code",
   "execution_count": 58,
   "id": "9a75d469-122e-488e-97b4-ba4748d5407b",
   "metadata": {
    "collapsed": false
   },
   "outputs": [
    {
     "data": {
      "text/plain": [
       "(3, 2)"
      ]
     },
     "execution_count": 58,
     "metadata": {},
     "output_type": "execute_result"
    }
   ],
   "source": []
  },
  {
   "cell_type": "code",
   "execution_count": null,
   "id": "b7f8e65b-a1f3-40a4-ba18-c7fe9ef4a795",
   "metadata": {
    "collapsed": false
   },
   "outputs": [],
   "source": []
  }
 ],
 "metadata": {
  "kernelspec": {
   "argv": [
    "python",
    "-m",
    "ipykernel_launcher",
    "-f",
    "{connection_file}"
   ],
   "display_name": "Python 3 (ipykernel)",
   "env": null,
   "interrupt_mode": "signal",
   "language": "python",
   "metadata": {
    "debugger": true
   },
   "name": "python3"
  },
  "name": "22003085_LuisTun_Laboratorio3.ipynb"
 },
 "nbformat": 4,
 "nbformat_minor": 5
}
