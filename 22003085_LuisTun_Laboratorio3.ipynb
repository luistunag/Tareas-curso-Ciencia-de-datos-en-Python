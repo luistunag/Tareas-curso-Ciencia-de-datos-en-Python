{
 "cells": [
  {
   "cell_type": "markdown",
   "id": "e2b3cff8-337e-4d6d-a32e-6debbad4cd59",
   "metadata": {
    "collapsed": false
   },
   "source": [
    "# Nombre: Luis Ricardo Tun Aguilar\n",
    "# Carnet: 22003085\n"
   ]
  },
  {
   "cell_type": "markdown",
   "id": "079b526b-ce12-4583-84af-0b072ebfa1c2",
   "metadata": {
    "collapsed": false
   },
   "source": [
    "# Parte 1: Numpy\n"
   ]
  },
  {
   "cell_type": "markdown",
   "id": "d43c27aa-9b93-4a29-ad32-beea8e788da7",
   "metadata": {
    "collapsed": false
   },
   "source": [
    "# 1)  ¿Cuál es el tamaño en bytes de un array de 1000 elementos de tipo booleano?\n"
   ]
  },
  {
   "cell_type": "code",
   "execution_count": 1,
   "id": "d0eb63d3-7801-46f8-b834-5f5bfe5fe2a4",
   "metadata": {
    "collapsed": false
   },
   "outputs": [],
   "source": [
    "import numpy as np"
   ]
  },
  {
   "cell_type": "code",
   "execution_count": 2,
   "id": "5bef4ec0-ab3a-429b-ab67-ee6facaaff1a",
   "metadata": {
    "collapsed": false
   },
   "outputs": [
    {
     "name": "stdout",
     "output_type": "stream",
     "text": [
      "El tamaño en bytes del array de booleanos es: 1000 bytes\n"
     ]
    }
   ],
   "source": [
    "# Crea un array de booleanos con 1000 elementos\n",
    "boolean_array = np.full(1000, True, dtype=bool)\n",
    "\n",
    "# Obtiene el tamaño en bytes\n",
    "size_in_bytes = boolean_array.nbytes\n",
    "\n",
    "print(f\"El tamaño en bytes del array de booleanos es: {size_in_bytes} bytes\")"
   ]
  },
  {
   "cell_type": "markdown",
   "id": "eb72d560-31d5-4acc-b713-e4a9d7f6210c",
   "metadata": {
    "collapsed": false
   },
   "source": [
    "2) 2) Cree un array cuyos elementos sean los enteros pares en [1,100] y en orden decreciente. Muestre los 10 últimos por pantalla.\n"
   ]
  },
  {
   "cell_type": "code",
   "execution_count": 3,
   "id": "51fbe8f6-d48c-456b-ae6b-b5e9386eddeb",
   "metadata": {
    "collapsed": false
   },
   "outputs": [
    {
     "name": "stdout",
     "output_type": "stream",
     "text": [
      "Los 10 últimos elementos son: [20 18 16 14 12 10  8  6  4  2]\n"
     ]
    }
   ],
   "source": [
    "# Crea un array de enteros pares en [1, 100] en orden decreciente\n",
    "enteros_pares_decrecientes = np.arange(100, 0, -2)\n",
    "\n",
    "# Muestra los últimos 10 elementos por pantalla\n",
    "ultimos_10_elementos = enteros_pares_decrecientes[-10:]\n",
    "print(\"Los 10 últimos elementos son:\", ultimos_10_elementos)"
   ]
  },
  {
   "cell_type": "markdown",
   "id": "0a52301d-ea99-4fdd-a240-b3c2ad34e49f",
   "metadata": {
    "collapsed": false
   },
   "source": [
    "# 3) Dado el array\n",
    "    2 4 5 6\n",
    "    0 3 7 4\n",
    "    8 8 5 2\n",
    "    1 5 6 1\n",
    "Seleccione con una instrucción el subarray de elementos\n",
    "    0 3 7 4\n",
    "Después, seleccione el subarray de elementos\n",
    "    2 5\n",
    "    8 5\n",
    "    "
   ]
  },
  {
   "cell_type": "code",
   "execution_count": 5,
   "id": "0f76bc3b-907e-4b25-a820-e722fdf31910",
   "metadata": {
    "collapsed": false
   },
   "outputs": [
    {
     "name": "stdout",
     "output_type": "stream",
     "text": [
      "Subarray [0 3 7 4]:\n",
      "[0 3 7 4]\n",
      "\n",
      "Subarray [[2 5] [8 5]]:\n",
      "[[2 5]\n",
      " [8 5]]\n"
     ]
    }
   ],
   "source": [
    "import numpy as np\n",
    "\n",
    "# Crea el array dado\n",
    "mi_array = np.array([\n",
    "    [2, 4, 5, 6],\n",
    "    [0, 3, 7, 4],\n",
    "    [8, 8, 5, 2],\n",
    "    [1, 5, 6, 1]\n",
    "])\n",
    "\n",
    "# Selecciona el subarray [0 3 7 4]\n",
    "subarray1 = mi_array[1, 0:5]\n",
    "print(\"Subarray [0 3 7 4]:\")\n",
    "print(subarray1)\n",
    "\n",
    "# Selecciona el subarray [[2 5]\n",
    "#                           [8 5]]\n",
    "subarray2 = mi_array[0:3:2, 0:3:2]\n",
    "print(\"\\nSubarray [[2 5] [8 5]]:\")\n",
    "print(subarray2)"
   ]
  },
  {
   "cell_type": "markdown",
   "id": "f2043e5f-4562-4871-aa65-c5ab3c801178",
   "metadata": {
    "collapsed": false
   },
   "source": [
    "# "
   ]
  }
 ],
 "metadata": {
  "kernelspec": {
   "argv": [
    "python",
    "-m",
    "ipykernel_launcher",
    "-f",
    "{connection_file}"
   ],
   "display_name": "Python 3 (ipykernel)",
   "env": null,
   "interrupt_mode": "signal",
   "language": "python",
   "metadata": {
    "debugger": true
   },
   "name": "python3"
  },
  "name": "22003085_LuisTun_Laboratorio3.ipynb"
 },
 "nbformat": 4,
 "nbformat_minor": 5
}
