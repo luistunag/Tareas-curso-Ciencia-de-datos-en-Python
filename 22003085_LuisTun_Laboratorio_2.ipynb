{
 "cells": [
  {
   "cell_type": "markdown",
   "id": "0cb9aa70-4083-4eb5-8a83-5dc8dbcf5418",
   "metadata": {},
   "source": [
    "# Nombre: Luis Ricardo Tun Aguilar\n",
    "# Carnet: 22003085"
   ]
  },
  {
   "cell_type": "markdown",
   "id": "24f6be91-321d-4a2d-a05c-864299f5aa34",
   "metadata": {},
   "source": [
    "# Laboratorio No. 2\n"
   ]
  },
  {
   "cell_type": "markdown",
   "id": "35253cd2-ac35-47f1-9f1b-2e6ea7a42a6d",
   "metadata": {},
   "source": [
    "## Ejercicio No. 1\n"
   ]
  },
  {
   "cell_type": "code",
   "execution_count": 1,
   "id": "bacb6c58-097a-49d6-9bbb-7d2dca92f9ce",
   "metadata": {},
   "outputs": [],
   "source": [
    "def segundos_a_tiempo(hora_en_segundos):\n",
    "    try:\n",
    "        if hora_en_segundos >= 0:\n",
    "            horas = hora_en_segundos // 3600\n",
    "            minutos = (hora_en_segundos % 3600) // 60\n",
    "            segundos = hora_en_segundos % 60\n",
    "        \n",
    "            print(f\"Horas: {horas}, Minutos: {minutos}, Segundos: {segundos}\")\n",
    "    \n",
    "    #except ValueError as e:\n",
    "    #   print(f\"Error: {e}\")\n",
    "    except TypeError:\n",
    "        print(\"Error. Ingresó un string. Ingrese un número entero por favor.\")\n",
    "    else:\n",
    "        print(\"El número de segundos debe ser no negativo.\")"
   ]
  },
  {
   "cell_type": "code",
   "execution_count": 2,
   "id": "9d456802-c63b-466b-8bee-1c391d36f683",
   "metadata": {},
   "outputs": [
    {
     "name": "stdout",
     "output_type": "stream",
     "text": [
      "Error. Ingresó un string. Ingrese un número entero por favor.\n"
     ]
    }
   ],
   "source": [
    "segundos_a_tiempo(\"ocho\")"
   ]
  },
  {
   "cell_type": "code",
   "execution_count": 3,
   "id": "e2c841d3-183e-442a-8f91-6939c79b1cdd",
   "metadata": {},
   "outputs": [
    {
     "name": "stdout",
     "output_type": "stream",
     "text": [
      "Horas: 1, Minutos: 37, Segundos: 51\n",
      "El número de segundos debe ser no negativo.\n"
     ]
    }
   ],
   "source": [
    "segundos_a_tiempo(5871)"
   ]
  },
  {
   "cell_type": "markdown",
   "id": "e2aa142d-89a0-4b23-ba6b-b81e79df8452",
   "metadata": {},
   "source": [
    "## Ejercicio No. 2\n"
   ]
  },
  {
   "cell_type": "code",
   "execution_count": 4,
   "id": "39ae1ee3-a3a9-44a2-abe3-fa020bd3f7d5",
   "metadata": {},
   "outputs": [],
   "source": [
    "def patrones_triangulares():\n",
    "    try:\n",
    "        numero = int(input(\"Ingrese un número: \"))\n",
    "        caracter = input(\"Ingrese un caracter cualquiera:\")\n",
    "        if (20 > numero > 1):\n",
    "            for i in range(numero):\n",
    "                ancho = numero\n",
    "                texto_lateral = caracter * (i+1)\n",
    "                texto_medio = caracter * (numero - i) \n",
    "                triangulo1 = texto_lateral.ljust(ancho) \n",
    "                triangulo2 = texto_medio.rjust(ancho)\n",
    "                triangulo3 = texto_medio.ljust(ancho)\n",
    "                triangulo4 = texto_lateral.rjust(ancho)\n",
    "                print(triangulo1 + \"\\t\" + triangulo2 + \"\\t\" + triangulo3 + \"\\t\" + triangulo4 + \"\\n\") \n",
    "        else:\n",
    "            print(\"Ingrese un número entre 1 a 20 por favor.\")\n",
    "    except ValueError:\n",
    "        print(\"Ingrese un valor numérico entero por favor.\")"
   ]
  },
  {
   "cell_type": "code",
   "execution_count": 5,
   "id": "d9d8c505-b1dd-44f7-9895-6152575c4a12",
   "metadata": {},
   "outputs": [
    {
     "name": "stdout",
     "output_type": "stream",
     "text": [
      "Ingrese un número: 7\n",
      "Ingrese un caracter cualquiera:*\n",
      "*      \t*******\t*******\t      *\n",
      "\n",
      "**     \t ******\t****** \t     **\n",
      "\n",
      "***    \t  *****\t*****  \t    ***\n",
      "\n",
      "****   \t   ****\t****   \t   ****\n",
      "\n",
      "*****  \t    ***\t***    \t  *****\n",
      "\n",
      "****** \t     **\t**     \t ******\n",
      "\n",
      "*******\t      *\t*      \t*******\n",
      "\n"
     ]
    }
   ],
   "source": [
    "patrones_triangulares()"
   ]
  },
  {
   "cell_type": "markdown",
   "id": "53b6409d-d959-4c1e-98d5-ba8c74d78744",
   "metadata": {},
   "source": [
    "## Ejercicio No. 3\n"
   ]
  },
  {
   "cell_type": "code",
   "execution_count": 6,
   "id": "2c2da63b-daf9-4cca-9845-df3c872c5fce",
   "metadata": {},
   "outputs": [],
   "source": [
    "from datetime import datetime\n",
    "\n",
    "def calcular_edad():\n",
    "    try:\n",
    "        dia_nacimiento = int(input(\"Ingrese el día de nacimiento: \"))\n",
    "        mes_nacimiento = int(input(\"Ingrese el mes de nacimiento: \"))\n",
    "        año_nacimiento = int(input(\"Ingrese el año de nacimiento:\"))\n",
    "        \n",
    "        fecha_nacimiento = datetime(year=año_nacimiento, month=mes_nacimiento, day=dia_nacimiento)\n",
    "        fecha_actual = datetime.now()\n",
    "\n",
    "        dif_years = fecha_actual.year -fecha_nacimiento.year\n",
    "        dif_months = fecha_actual.month - fecha_nacimiento.month\n",
    "        dif_days = fecha_actual.day - fecha_nacimiento.day\n",
    "\n",
    "        if (fecha_actual.month > fecha_nacimiento.month):\n",
    "            años = dif_years\n",
    "            meses =  dif_months\n",
    "            dias = dif_days\n",
    "        elif (fecha_actual.month == fecha_nacimiento.month) and (fecha_actual.day < fecha_nacimiento.day):\n",
    "            años = dif_years - 1\n",
    "            meses = 12 - 1\n",
    "            dias = 31 + dif_days\n",
    "        elif (fecha_actual.month == fecha_nacimiento.month) and (fecha_actual.day >= fecha_nacimiento.day):\n",
    "            años = dif_years\n",
    "            meses = dif_months\n",
    "            dias = dif_days\n",
    "        elif (fecha_actual.month < fecha_nacimiento.month):\n",
    "            años = dif_years - 1\n",
    "            meses = 12 + dif_months\n",
    "            dias =  dif_days\n",
    "\n",
    "        print(f\"Año de nacimiento es: {año_nacimiento}\")\n",
    "        print(f\"Mes de nacimiento es: {mes_nacimiento}\")\n",
    "        print(f\"Día de nacimiento es: {dia_nacimiento}\")\n",
    "        print(f\"Edad: {años} años, {meses} mes(es) y {dias} día(s)\")\n",
    "    except ValueError:\n",
    "        print(\"Por favor ingrese un valor numérico entero. Los días deben de ir \\n de 1 a 31, y los meses de 1 a 12.\")"
   ]
  },
  {
   "cell_type": "code",
   "execution_count": 7,
   "id": "807885ee-fa31-4800-bf4f-f029d01b45ea",
   "metadata": {},
   "outputs": [
    {
     "name": "stdout",
     "output_type": "stream",
     "text": [
      "Ingrese el día de nacimiento: 3\n",
      "Ingrese el mes de nacimiento: 4\n",
      "Ingrese el año de nacimiento:1991\n",
      "Año de nacimiento es: 1991\n",
      "Mes de nacimiento es: 4\n",
      "Día de nacimiento es: 3\n",
      "Edad: 32 años, 10 mes(es) y 22 día(s)\n"
     ]
    }
   ],
   "source": [
    "calcular_edad()"
   ]
  },
  {
   "cell_type": "markdown",
   "id": "2a3b7157-cfb2-41e3-b23c-4a28fd05f529",
   "metadata": {},
   "source": [
    "## Ejercicio No. 4\n"
   ]
  },
  {
   "cell_type": "code",
   "execution_count": 8,
   "id": "fe7904ef-8cf5-41da-b843-54d8662f0dcb",
   "metadata": {},
   "outputs": [],
   "source": [
    "def tupla_a_string(tupla):\n",
    "    a = \"\"\n",
    "    for i in range(len(tupla)):\n",
    "        a += str(tupla[i])\n",
    "    return a"
   ]
  },
  {
   "cell_type": "code",
   "execution_count": 9,
   "id": "9d12681c-0eb5-4493-bc4e-a4a44e72c63d",
   "metadata": {},
   "outputs": [],
   "source": [
    "tupla = (\"Hola\", 1000, \"Guatemala\")"
   ]
  },
  {
   "cell_type": "code",
   "execution_count": 10,
   "id": "34274cb3-ff7b-4b64-a296-747945ee3fc9",
   "metadata": {},
   "outputs": [
    {
     "data": {
      "text/plain": [
       "'Hola1000Guatemala'"
      ]
     },
     "execution_count": 10,
     "metadata": {},
     "output_type": "execute_result"
    }
   ],
   "source": [
    "tupla_a_string(tupla)"
   ]
  },
  {
   "cell_type": "markdown",
   "id": "2f008fe3-44e6-47d9-bfad-9e53bd73ade0",
   "metadata": {},
   "source": [
    "## Ejercicio No. 5\n"
   ]
  },
  {
   "cell_type": "code",
   "execution_count": 11,
   "id": "26049ad6-1a49-4b81-9d84-dd2bd88b528e",
   "metadata": {},
   "outputs": [],
   "source": [
    "def eliminar_tuplas_vacias(lista_de_tuplas):\n",
    "    nueva_lista = [] \n",
    "    for i in range(len(lista_de_tuplas)):\n",
    "        tupla = tuple(lista_de_tuplas[i]) \n",
    "        if len(tupla) > 0: \n",
    "            nueva_lista.append(tupla)\n",
    "        else:\n",
    "            pass \n",
    "    return nueva_lista"
   ]
  },
  {
   "cell_type": "code",
   "execution_count": 12,
   "id": "12d31ddd-9aaa-42f4-a0f6-80d83e407252",
   "metadata": {},
   "outputs": [],
   "source": [
    "lista_original = [(\"05-09-2011\", \"20-05-2014\", \"30-06-2019\"), (\"México\", \"USA\", \"Canadá\"), (), ('Hola', 'Adiós'), (0, 2, 4, 6, 8), (),('a', 1, 'b', 2), ()]"
   ]
  },
  {
   "cell_type": "code",
   "execution_count": 13,
   "id": "a177a703-d766-4854-9e0d-0037d2757425",
   "metadata": {},
   "outputs": [],
   "source": [
    "lista_sin_tuplas_vacias = eliminar_tuplas_vacias(lista_original)"
   ]
  },
  {
   "cell_type": "code",
   "execution_count": 14,
   "id": "5362b4a3-8e3a-42b0-b0cf-515bc2fb88e1",
   "metadata": {},
   "outputs": [
    {
     "name": "stdout",
     "output_type": "stream",
     "text": [
      "Lista original: [('05-09-2011', '20-05-2014', '30-06-2019'), ('México', 'USA', 'Canadá'), (), ('Hola', 'Adiós'), (0, 2, 4, 6, 8), (), ('a', 1, 'b', 2), ()]\n",
      "Lista sin tuplas vacías: [('05-09-2011', '20-05-2014', '30-06-2019'), ('México', 'USA', 'Canadá'), ('Hola', 'Adiós'), (0, 2, 4, 6, 8), ('a', 1, 'b', 2)]\n"
     ]
    }
   ],
   "source": [
    "print(f\"Lista original: {lista_original}\")\n",
    "print(f\"Lista sin tuplas vacías: {lista_sin_tuplas_vacias}\")"
   ]
  },
  {
   "cell_type": "markdown",
   "id": "4032e046-8657-4787-b10d-4f0f18eef134",
   "metadata": {},
   "source": [
    "## Ejercicio No. 6\n"
   ]
  },
  {
   "cell_type": "code",
   "execution_count": 15,
   "id": "0e3980fd-80b9-40ad-95ba-9ad2ff490dd2",
   "metadata": {},
   "outputs": [],
   "source": [
    "def calcular_promedio_de_tuplas(tupla_de_tuplas):\n",
    "    tupla_resultado = tuple(sum(tupla) / len(tupla) for tupla in tupla_de_tuplas) # Se usa comprehensions para calcular el promedio\n",
    "    return tupla_resultado"
   ]
  },
  {
   "cell_type": "code",
   "execution_count": 16,
   "id": "7bf6e561-36b8-4839-922a-0dc672799278",
   "metadata": {},
   "outputs": [],
   "source": [
    "tupla_original = ((10, 40, 20, 30), (100, 500, 900), (1.1, 2.5, 7.8, 11.14), (0.2, 0.5, 0.7, 0.9))"
   ]
  },
  {
   "cell_type": "code",
   "execution_count": 17,
   "id": "c8f502c2-747d-446e-99e5-23b45404de98",
   "metadata": {},
   "outputs": [
    {
     "data": {
      "text/plain": [
       "(25.0, 500.0, 5.635, 0.575)"
      ]
     },
     "execution_count": 17,
     "metadata": {},
     "output_type": "execute_result"
    }
   ],
   "source": [
    "calcular_promedio_de_tuplas(tupla_original)"
   ]
  },
  {
   "cell_type": "markdown",
   "id": "0ab756e1-ac80-4d16-92bf-61925fa1a069",
   "metadata": {},
   "source": [
    "## Ejercicio No. 7\n"
   ]
  },
  {
   "cell_type": "code",
   "execution_count": 18,
   "id": "19bf9ab6-3b3d-43bf-b8b0-6a228db35f07",
   "metadata": {},
   "outputs": [],
   "source": [
    "def gestion_cobros_empresa():\n",
    "    almacen_facturas = {} # Inicializando un diccionario vacío\n",
    "    historico_de_facturas = 0 # Esta variable guarda el cobro total histórico de las facturas\n",
    "    cobro_total = 0 # Inicializar variable de cobro total con un valor cualquiera\n",
    "    total_a_pagar = 0 # Inicializar variable de pago total con un valor cualquiera\n",
    "    \n",
    "    while True: # Aquí se utiliza un bucle while que permite desplegar al usuario varias opciones\n",
    "        print(\"Bienvenido al gestor de cobros de la Empresa XYZ\")\n",
    "        print(\"Escoga una de las siguientes opciones por favor.\")\n",
    "        print(\"1. Añadir una nueva factura.\")\n",
    "        print(\"2. Pagar una factura existente.\")\n",
    "        print(\"3. Terminar.\")\n",
    "\n",
    "        opcion_escogida = input(\"Ingrese el número de la opción que desea hacer: \") # Variable donde se almacena la opción ingresado por el usuario\n",
    "\n",
    "        if opcion_escogida == '1':\n",
    "            numero_factura = input(\"Ingrese el número de factura (4 dígitos): \")\n",
    "            while len(numero_factura) != 4 or not numero_factura.isdigit():\n",
    "                print(\"Por favor, ingrese un número de factura válido con 4 dígitos.\")\n",
    "                numero_factura = input(\"Ingrese él número de factura (4 dígitos): \")\n",
    "\n",
    "            costo_factura = float(input(\"Ingrese el coste total de la factura: \"))\n",
    "            almacen_facturas[numero_factura] = costo_factura\n",
    "            cobro_total += costo_factura\n",
    "            historico_de_facturas = cobro_total\n",
    "            total_a_pagar = cobro_total\n",
    "\n",
    "            print(\"Factura añadida correctamente.\")\n",
    "            print(\"Estado actual de factura:\", almacen_facturas)\n",
    "            print(f\"Cantidad cobrada hasta el momento: {cobro_total}\")\n",
    "            print(f\"Cantidad pendiente de pago: {total_a_pagar}\")\n",
    "\n",
    "        elif opcion_escogida == '2':\n",
    "            cobro_total = historico_de_facturas\n",
    "            numero_factura = input(\"Ingrese el número de factura a pagar: \")\n",
    "            if numero_factura in almacen_facturas:\n",
    "                #cobro_total = almacen_facturas.values()\n",
    "                total_a_pagar -= almacen_facturas[numero_factura]\n",
    "                del almacen_facturas[numero_factura]\n",
    "\n",
    "                print(\"Factura pagada correctamente.\")\n",
    "                print(\"Estado actual de facturas:\", almacen_facturas)\n",
    "                print(f\"Cantidad cobrada hasta el momento: {cobro_total}\")\n",
    "                print(f\"Cantidad pendiente de pago: {total_a_pagar}\")\n",
    "            else:\n",
    "                print(\"La factura ingresada no existe.\")\n",
    "\n",
    "        elif opcion_escogida == '3':\n",
    "            print(\"Programa terminado. Tenga un buen día.\")\n",
    "            break\n",
    "\n",
    "        else:\n",
    "            print(\"Opción no válida. Por favor, elija una opción correcta.\")"
   ]
  },
  {
   "cell_type": "code",
   "execution_count": 19,
   "id": "70eb7f52-0ee9-4231-ab6a-c8273e76f307",
   "metadata": {},
   "outputs": [
    {
     "name": "stdout",
     "output_type": "stream",
     "text": [
      "Bienvenido al gestor de cobros de la Empresa XYZ\n",
      "Escoga una de las siguientes opciones por favor.\n",
      "1. Añadir una nueva factura.\n",
      "2. Pagar una factura existente.\n",
      "3. Terminar.\n",
      "Ingrese el número de la opción que desea hacer: 1\n",
      "Ingrese el número de factura (4 dígitos): 7894\n",
      "Ingrese el coste total de la factura: 800\n",
      "Factura añadida correctamente.\n",
      "Estado actual de factura: {'7894': 800.0}\n",
      "Cantidad cobrada hasta el momento: 800.0\n",
      "Cantidad pendiente de pago: 800.0\n",
      "Bienvenido al gestor de cobros de la Empresa XYZ\n",
      "Escoga una de las siguientes opciones por favor.\n",
      "1. Añadir una nueva factura.\n",
      "2. Pagar una factura existente.\n",
      "3. Terminar.\n",
      "Ingrese el número de la opción que desea hacer: 1\n",
      "Ingrese el número de factura (4 dígitos): 4561\n",
      "Ingrese el coste total de la factura: 1200\n",
      "Factura añadida correctamente.\n",
      "Estado actual de factura: {'7894': 800.0, '4561': 1200.0}\n",
      "Cantidad cobrada hasta el momento: 2000.0\n",
      "Cantidad pendiente de pago: 2000.0\n",
      "Bienvenido al gestor de cobros de la Empresa XYZ\n",
      "Escoga una de las siguientes opciones por favor.\n",
      "1. Añadir una nueva factura.\n",
      "2. Pagar una factura existente.\n",
      "3. Terminar.\n",
      "Ingrese el número de la opción que desea hacer: 1\n",
      "Ingrese el número de factura (4 dígitos): 1235\n",
      "Ingrese el coste total de la factura: 850\n",
      "Factura añadida correctamente.\n",
      "Estado actual de factura: {'7894': 800.0, '4561': 1200.0, '1235': 850.0}\n",
      "Cantidad cobrada hasta el momento: 2850.0\n",
      "Cantidad pendiente de pago: 2850.0\n",
      "Bienvenido al gestor de cobros de la Empresa XYZ\n",
      "Escoga una de las siguientes opciones por favor.\n",
      "1. Añadir una nueva factura.\n",
      "2. Pagar una factura existente.\n",
      "3. Terminar.\n",
      "Ingrese el número de la opción que desea hacer: 2\n",
      "Ingrese el número de factura a pagar: 1235\n",
      "Factura pagada correctamente.\n",
      "Estado actual de facturas: {'7894': 800.0, '4561': 1200.0}\n",
      "Cantidad cobrada hasta el momento: 2850.0\n",
      "Cantidad pendiente de pago: 2000.0\n",
      "Bienvenido al gestor de cobros de la Empresa XYZ\n",
      "Escoga una de las siguientes opciones por favor.\n",
      "1. Añadir una nueva factura.\n",
      "2. Pagar una factura existente.\n",
      "3. Terminar.\n",
      "Ingrese el número de la opción que desea hacer: 2\n",
      "Ingrese el número de factura a pagar: 4561\n",
      "Factura pagada correctamente.\n",
      "Estado actual de facturas: {'7894': 800.0}\n",
      "Cantidad cobrada hasta el momento: 2850.0\n",
      "Cantidad pendiente de pago: 800.0\n",
      "Bienvenido al gestor de cobros de la Empresa XYZ\n",
      "Escoga una de las siguientes opciones por favor.\n",
      "1. Añadir una nueva factura.\n",
      "2. Pagar una factura existente.\n",
      "3. Terminar.\n",
      "Ingrese el número de la opción que desea hacer: 2\n",
      "Ingrese el número de factura a pagar: 7894\n",
      "Factura pagada correctamente.\n",
      "Estado actual de facturas: {}\n",
      "Cantidad cobrada hasta el momento: 2850.0\n",
      "Cantidad pendiente de pago: 0.0\n",
      "Bienvenido al gestor de cobros de la Empresa XYZ\n",
      "Escoga una de las siguientes opciones por favor.\n",
      "1. Añadir una nueva factura.\n",
      "2. Pagar una factura existente.\n",
      "3. Terminar.\n",
      "Ingrese el número de la opción que desea hacer: 3\n",
      "Programa terminado. Tenga un buen día.\n"
     ]
    }
   ],
   "source": [
    "gestion_cobros_empresa()"
   ]
  },
  {
   "cell_type": "markdown",
   "id": "75d41a85-d1ef-461d-8cff-a37a9846e1ea",
   "metadata": {},
   "source": [
    "## Ejercicio No. 8\n"
   ]
  },
  {
   "cell_type": "code",
   "execution_count": 20,
   "id": "e64a1dd7-f114-4903-a0d6-d1fcb136bb38",
   "metadata": {},
   "outputs": [],
   "source": [
    "def funcion_crear_set_pocker():\n",
    "    tipo_carta = ['T', 'C', 'P', 'E']# Definir tipo de carta\n",
    "    numero_carta = [1, 2, 3, 4, 5, 6, 7, 8, 9, 10, 11, 12, 13]# Definir número de carta\n",
    "    set_cartas = set()\n",
    "\n",
    "    for i in range(len(tipo_carta)):\n",
    "        for j in range(len(numero_carta)):\n",
    "            if j < 10:\n",
    "                nuevo_numero_carta = ('{:02}'.format(numero_carta[j])) # Convertir números del 1 al 9 a formato con cero antes del dígito\n",
    "                elemento_set = tipo_carta[i] + str(nuevo_numero_carta)\n",
    "            else:\n",
    "                elemento_set = tipo_carta[i] + str(numero_carta[j])\n",
    "            set_cartas.add(elemento_set)\n",
    "    return set_cartas"
   ]
  },
  {
   "cell_type": "code",
   "execution_count": 21,
   "id": "f2006654-82fd-4611-9d9c-47523eeb7497",
   "metadata": {},
   "outputs": [
    {
     "name": "stdout",
     "output_type": "stream",
     "text": [
      "Set de completo de cartas de Pocker: {'P01', 'T12', 'P09', 'C13', 'C11', 'T01', 'E04', 'P06', 'T13', 'T11', 'P07', 'E09', 'E03', 'P11', 'P12', 'T05', 'E11', 'C05', 'T07', 'P03', 'P04', 'P13', 'T06', 'T08', 'C04', 'P08', 'T03', 'P05', 'C02', 'C12', 'E07', 'T02', 'E05', 'P10', 'T09', 'C07', 'T10', 'C06', 'P02', 'E02', 'C01', 'E13', 'E06', 'T04', 'C09', 'C10', 'E10', 'C08', 'E01', 'C03', 'E08', 'E12'}\n"
     ]
    }
   ],
   "source": [
    "set_de_pocker = funcion_crear_set_pocker()\n",
    "print(f\"Set de completo de cartas de Pocker: {set_de_pocker}\")"
   ]
  },
  {
   "cell_type": "code",
   "execution_count": 22,
   "id": "8fa9eadb-19ea-454e-8f15-82aba40858f8",
   "metadata": {},
   "outputs": [],
   "source": [
    "import random\n",
    "\n",
    "def crear_sets_de_cartas(set_original):\n",
    "    numero_aleatorio_1 = random.randint(1, 52) \n",
    "    numero_aleatorio_2 = random.randint(1, 52) \n",
    "    \n",
    "    subconjunto1 = set(random.sample(set_original, numero_aleatorio_1)) \n",
    "    subconjunto2 = set(random.sample(set_original, numero_aleatorio_2)) \n",
    "\n",
    "    return subconjunto1, subconjunto2"
   ]
  },
  {
   "cell_type": "code",
   "execution_count": 23,
   "id": "a650ecff-2ea0-40d2-9d83-acc13db427ea",
   "metadata": {},
   "outputs": [
    {
     "name": "stdout",
     "output_type": "stream",
     "text": [
      "Subconjunto No. 1 del set de Pocker original: {'T03', 'E04', 'E05', 'P10', 'C08', 'T10', 'E13', 'C01'}\n",
      "Subconjunto No. 2 del set de Pocker original: {'P01', 'T13', 'P07', 'E09', 'E03', 'P12', 'P03', 'P04', 'C02', 'E07', 'C12', 'T02', 'E05', 'P10', 'C07', 'C10', 'E10', 'C08', 'E08'}\n"
     ]
    },
    {
     "name": "stderr",
     "output_type": "stream",
     "text": [
      "/tmp/ipykernel_27808/2189413821.py:7: DeprecationWarning: Sampling from a set deprecated\n",
      "since Python 3.9 and will be removed in a subsequent version.\n",
      "  subconjunto1 = set(random.sample(set_original, numero_aleatorio_1))\n",
      "/tmp/ipykernel_27808/2189413821.py:8: DeprecationWarning: Sampling from a set deprecated\n",
      "since Python 3.9 and will be removed in a subsequent version.\n",
      "  subconjunto2 = set(random.sample(set_original, numero_aleatorio_2))\n"
     ]
    }
   ],
   "source": [
    "subset1, subset2 = crear_sets_de_cartas(funcion_crear_set_pocker())\n",
    "print(f\"Subconjunto No. 1 del set de Pocker original: {subset1}\")\n",
    "print(f\"Subconjunto No. 2 del set de Pocker original: {subset2}\")"
   ]
  },
  {
   "cell_type": "code",
   "execution_count": 24,
   "id": "dd91910d-80fc-45c8-824e-e227c93315af",
   "metadata": {},
   "outputs": [],
   "source": [
    "def calcular_probabilidad_interseccion(conjunto1, conjunto2, conjunto_original):\n",
    "    len_interseccion = len(conjunto1 & conjunto2) \n",
    "    len_espacio_muestral = len(conjunto_original) \n",
    "    probabilidad_interseccion = len_interseccion / len_espacio_muestral \n",
    "\n",
    "    # Se demuestra si son eventos independientes con la regla del producto P(conjunto1 & conjunto2) = P(conjunto1) * P(conjunto2)\n",
    "    len_conjunto1 = len(conjunto1) \n",
    "    len_conjunto2 = len(conjunto2) \n",
    "    probabilidad_conjunto1 = len_conjunto1 / len_espacio_muestral\n",
    "    probabilidad_conjunto2 = len_conjunto2 / len_espacio_muestral\n",
    "\n",
    "    producto = probabilidad_conjunto1 * probabilidad_conjunto2\n",
    "\n",
    "    return probabilidad_interseccion, producto"
   ]
  },
  {
   "cell_type": "code",
   "execution_count": 25,
   "id": "64c3a754-3196-4f15-9869-2b60a981f763",
   "metadata": {},
   "outputs": [
    {
     "name": "stdout",
     "output_type": "stream",
     "text": [
      "La probabilidad de la intersección del subconjunto y y el subconjunto 2 es: 0.057692307692307696\n",
      "La probabilidad del producto de la probabilidad del subconjunto y y el subconjunto 2 es: 0.05621301775147929\n",
      "Los eventos no son independientes\n"
     ]
    }
   ],
   "source": [
    "prob_intersect, producto_s1_s2 = calcular_probabilidad_interseccion(subset1, subset2, set_de_pocker)\n",
    "print(f\"La probabilidad de la intersección del subconjunto y y el subconjunto 2 es: {prob_intersect}\")\n",
    "print(f\"La probabilidad del producto de la probabilidad del subconjunto y y el subconjunto 2 es: {producto_s1_s2}\")\n",
    "if prob_intersect != producto_s1_s2:\n",
    "    print(\"Los eventos no son independientes\")\n",
    "else:\n",
    "    print(\"Los eventos son independientes\")"
   ]
  },
  {
   "cell_type": "code",
   "execution_count": 26,
   "id": "a30f31ac-bf4c-44c4-b3ae-8570bb9ac96f",
   "metadata": {},
   "outputs": [],
   "source": [
    "def calcular_probabilidad_union(conjunto1, conjunto2, conjunto_original, prob_intersect):\n",
    "    len_union = len(conjunto1 | conjunto2) \n",
    "    len_espacio_muestral = len(conjunto_original) \n",
    "    probabilidad_union = len_union / len_espacio_muestral\n",
    "\n",
    "    # Se demuestra la regla de la adición con  P(conjunto1 | conjunto2) = P(conjunto1) + P(conjunto2) - P(conjunto1 & conjunto2)\n",
    "    len_conjunto1 = len(conjunto1) \n",
    "    len_conjunto2 = len(conjunto2) \n",
    "    probabilidad_conjunto1 = len_conjunto1 / len_espacio_muestral\n",
    "    probabilidad_conjunto2 = len_conjunto2 / len_espacio_muestral\n",
    "\n",
    "    regla_adicion = probabilidad_conjunto1 + probabilidad_conjunto2 - prob_intersect\n",
    "\n",
    "    return probabilidad_union, regla_adicion"
   ]
  },
  {
   "cell_type": "code",
   "execution_count": 27,
   "id": "35badeee-7161-424c-a4ed-2784e3ab89a3",
   "metadata": {},
   "outputs": [
    {
     "name": "stdout",
     "output_type": "stream",
     "text": [
      "La probabilidad de la unión es: 0.46153846153846156\n",
      "La regla de la adición da: 0.46153846153846145\n",
      "Se cumple la regla de la adición\n"
     ]
    }
   ],
   "source": [
    "prob_union, regla_adicion = calcular_probabilidad_union(subset1, subset2, set_de_pocker, prob_intersect)\n",
    "print(f\"La probabilidad de la unión es: {prob_union}\")\n",
    "print(f\"La regla de la adición da: {regla_adicion}\")\n",
    "if round(prob_union, 4) == round(regla_adicion, 4):\n",
    "    print(\"Se cumple la regla de la adición\")\n",
    "else:\n",
    "    print(\"No se cumple la regla de la adición\")"
   ]
  },
  {
   "cell_type": "code",
   "execution_count": null,
   "id": "ae28b456",
   "metadata": {},
   "outputs": [],
   "source": []
  }
 ],
 "metadata": {
  "kernelspec": {
   "display_name": "Python 3 (ipykernel)",
   "language": "python",
   "name": "python3"
  },
  "language_info": {
   "codemirror_mode": {
    "name": "ipython",
    "version": 3
   },
   "file_extension": ".py",
   "mimetype": "text/x-python",
   "name": "python",
   "nbconvert_exporter": "python",
   "pygments_lexer": "ipython3",
   "version": "3.10.9"
  },
  "name": "22003085_LuisTun_Laboratorio_2.ipynb"
 },
 "nbformat": 4,
 "nbformat_minor": 5
}
