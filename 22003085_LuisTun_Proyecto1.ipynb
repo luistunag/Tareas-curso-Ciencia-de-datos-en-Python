{
 "cells": [
  {
   "cell_type": "markdown",
   "id": "7cef23de-8411-499a-8244-baf88b1ba155",
   "metadata": {
    "collapsed": false,
    "jupyter": {
     "outputs_hidden": false
    }
   },
   "source": [
    "# Nombre: Luis Ricardo Tun Aguilar\n",
    "# Carnet: 22003085\n"
   ]
  },
  {
   "cell_type": "markdown",
   "id": "da99cc4c-222d-4984-a545-f86fcccb704e",
   "metadata": {
    "collapsed": false,
    "jupyter": {
     "outputs_hidden": false
    }
   },
   "source": [
    "# Proyecto No. 1\n"
   ]
  },
  {
   "cell_type": "markdown",
   "id": "dc64301f-ba40-47df-8da3-0b618f132297",
   "metadata": {
    "collapsed": false,
    "jupyter": {
     "outputs_hidden": false
    }
   },
   "source": [
    "## 1. Crear un entorno de anaconda con los paquetes que considere necesarios.\n"
   ]
  },
  {
   "cell_type": "markdown",
   "id": "45d52275-1010-410c-bf8b-ba0cae25532b",
   "metadata": {
    "collapsed": false,
    "jupyter": {
     "outputs_hidden": false
    }
   },
   "source": [
    "## Entorno creado con el comando\n",
    "\n",
    "conda create --name proyecto_env python=3.11\n",
    "\n",
    "## Las librerías necesarias fueron instaladas con los comandos\n",
    "\n",
    "conda install matplotlib \n",
    "\n",
    "conda install seaborn \n",
    "\n",
    "conda install numpy \n",
    "\n",
    "conda install pandas \n",
    "\n",
    "conda install scikit-learn"
   ]
  },
  {
   "cell_type": "markdown",
   "id": "c84a1675-3b71-40af-9b33-371ca02cb531",
   "metadata": {
    "collapsed": false,
    "jupyter": {
     "outputs_hidden": false
    }
   },
   "source": [
    "## 2. Usando sclicing con NumPy separar los datos en 2 datasets: entrenamiento(80 %) y validación y pruebas(20 %).\n"
   ]
  },
  {
   "cell_type": "code",
   "execution_count": 1,
   "id": "18babcbf-f029-4cfc-bb52-d54363b9cf4c",
   "metadata": {
    "collapsed": false,
    "jupyter": {
     "outputs_hidden": false
    }
   },
   "outputs": [],
   "source": [
    "# Importa las librerías\n",
    "import numpy as np\n",
    "import pandas as pd\n",
    "import seaborn as sns\n",
    "import matplotlib.pyplot as plt"
   ]
  },
  {
   "cell_type": "code",
   "execution_count": 2,
   "id": "1c326785-4570-4d14-ab8a-38efb0f7694e",
   "metadata": {
    "collapsed": false,
    "jupyter": {
     "outputs_hidden": false
    }
   },
   "outputs": [],
   "source": [
    "# Define el directorio de los datos a trabajar\n",
    "path_data = \"/Users/luistun/Maestria/curso_ciencia_datos_python/proyecto_data/\""
   ]
  },
  {
   "cell_type": "code",
   "execution_count": 3,
   "id": "fd2ba437-a51f-44df-872b-0ca656eefc13",
   "metadata": {
    "collapsed": false,
    "jupyter": {
     "outputs_hidden": false
    }
   },
   "outputs": [],
   "source": [
    "# Carga el archivo\n",
    "datos = np.load(path_data + 'proyecto_training_data.npy')"
   ]
  },
  {
   "cell_type": "code",
   "execution_count": 4,
   "id": "6771c9d2-a8e1-4945-a005-61f86bc758b0",
   "metadata": {
    "collapsed": false,
    "jupyter": {
     "outputs_hidden": false
    }
   },
   "outputs": [
    {
     "data": {
      "text/plain": [
       "array([[2.08500e+05, 7.00000e+00, 8.56000e+02, 8.00000e+00, 2.00300e+03,\n",
       "        6.50000e+01],\n",
       "       [1.81500e+05, 6.00000e+00, 1.26200e+03, 6.00000e+00, 1.97600e+03,\n",
       "        8.00000e+01],\n",
       "       [2.23500e+05, 7.00000e+00, 9.20000e+02, 6.00000e+00, 2.00100e+03,\n",
       "        6.80000e+01],\n",
       "       ...,\n",
       "       [2.66500e+05, 7.00000e+00, 1.18800e+03, 9.00000e+00, 1.94100e+03,\n",
       "        6.60000e+01],\n",
       "       [1.42125e+05, 5.00000e+00, 1.07800e+03, 5.00000e+00, 1.95000e+03,\n",
       "        6.80000e+01],\n",
       "       [1.47500e+05, 5.00000e+00, 1.25600e+03, 6.00000e+00, 1.96500e+03,\n",
       "        7.50000e+01]])"
      ]
     },
     "execution_count": 4,
     "metadata": {},
     "output_type": "execute_result"
    }
   ],
   "source": [
    "# Visualiza los datos\n",
    "datos"
   ]
  },
  {
   "cell_type": "code",
   "execution_count": 5,
   "id": "c3ea6c81-0991-409e-9e91-475e4dc30dad",
   "metadata": {
    "collapsed": false,
    "jupyter": {
     "outputs_hidden": false
    }
   },
   "outputs": [
    {
     "data": {
      "text/plain": [
       "(1460, 6)"
      ]
     },
     "execution_count": 5,
     "metadata": {},
     "output_type": "execute_result"
    }
   ],
   "source": [
    "# Obtener la dimensión de datos\n",
    "datos.shape"
   ]
  },
  {
   "cell_type": "code",
   "execution_count": 6,
   "id": "e2c4922e-835d-4732-82d3-401d1fcd3a68",
   "metadata": {
    "collapsed": false,
    "jupyter": {
     "outputs_hidden": false
    }
   },
   "outputs": [],
   "source": [
    "# Calcula el índice que representa el 80% de las filas\n",
    "indice_80_por_ciento = int(0.8 * datos.shape[0])"
   ]
  },
  {
   "cell_type": "code",
   "execution_count": 7,
   "id": "cc814233-1c00-4f21-9177-b568d6d1819d",
   "metadata": {
    "collapsed": false,
    "jupyter": {
     "outputs_hidden": false
    }
   },
   "outputs": [],
   "source": [
    "# Divide los datos en conjuntos de entrenamiento y validación\n",
    "set_de_entrenamiento = datos[:indice_80_por_ciento, :]\n",
    "set_de_validacion = datos[indice_80_por_ciento:, :]"
   ]
  },
  {
   "cell_type": "markdown",
   "id": "0c436c0f-45e8-4381-9b10-557b7d8046e6",
   "metadata": {
    "collapsed": false
   },
   "source": [
    "## Análisis exploratorio de datos: Para cada variable en el dataset calcular((usando numpy o pandas):\n",
    "    * media\n",
    "    \n",
    "    * valor máximo\n",
    "    \n",
    "    * valor mı́nimo\n",
    "    \n",
    "    * rango(peak to peak, no el rango del tensor que por ser vector sabemos que es 1)\n",
    "    \n",
    "    * desviación estándar"
   ]
  },
  {
   "cell_type": "code",
   "execution_count": 10,
   "id": "d2b93d1c-5391-4b57-870c-a971cf1b8057",
   "metadata": {
    "collapsed": false
   },
   "outputs": [
    {
     "data": {
      "text/plain": [
       "(1168, 6)"
      ]
     },
     "execution_count": 10,
     "metadata": {},
     "output_type": "execute_result"
    }
   ],
   "source": [
    "# Obteniendo el shape del set de entrenamiento\n",
    "set_de_entrenamiento.shape"
   ]
  },
  {
   "cell_type": "code",
   "execution_count": 13,
   "id": "48447b50-fc0a-4e77-a1b9-07bc4fdbb5d5",
   "metadata": {
    "collapsed": false
   },
   "outputs": [],
   "source": [
    "# Calcula la media de cada variable\n",
    "medias_por_variable = np.nanmean(set_de_entrenamiento, axis=0)"
   ]
  },
  {
   "cell_type": "code",
   "execution_count": 15,
   "id": "9a18dae8-f0ba-42a5-be1e-d0e6d12c7e04",
   "metadata": {
    "collapsed": false
   },
   "outputs": [
    {
     "name": "stdout",
     "output_type": "stream",
     "text": [
      "[1.80590277e+05 6.10102740e+00 1.15632363e+03 6.48544521e+00\n",
      " 1.97145120e+03 6.99469854e+01]\n"
     ]
    }
   ],
   "source": [
    "# Visualizando medias por variable\n",
    "print(medias_por_variable)"
   ]
  },
  {
   "cell_type": "code",
   "execution_count": 16,
   "id": "bf7dbe6f-9037-4205-9c3f-c6befe06ed5f",
   "metadata": {
    "collapsed": false
   },
   "outputs": [],
   "source": [
    "# Calcula el máximo de cada variable\n",
    "maximo_por_variable = np.nanmax(set_de_entrenamiento, axis=0)"
   ]
  },
  {
   "cell_type": "code",
   "execution_count": 17,
   "id": "de49030c-b324-4f80-9e7a-265526568b01",
   "metadata": {
    "collapsed": false
   },
   "outputs": [
    {
     "name": "stdout",
     "output_type": "stream",
     "text": [
      "[7.550e+05 1.000e+01 3.228e+03 1.400e+01 2.010e+03 3.130e+02]\n"
     ]
    }
   ],
   "source": [
    "# Visualizando máximos por variable\n",
    "print(maximo_por_variable)"
   ]
  },
  {
   "cell_type": "code",
   "execution_count": 18,
   "id": "4f76a1d4-f692-4ef4-adac-2cfaefa394fa",
   "metadata": {
    "collapsed": false
   },
   "outputs": [],
   "source": [
    "# Calcula el mínimo por variable\n",
    "minimo_por_variable = np.nanmean(set_de_entrenamiento, axis=0)"
   ]
  },
  {
   "cell_type": "code",
   "execution_count": 19,
   "id": "ee8776a9-3fea-48c1-98ed-964213b64c91",
   "metadata": {
    "collapsed": false
   },
   "outputs": [
    {
     "name": "stdout",
     "output_type": "stream",
     "text": [
      "[1.80590277e+05 6.10102740e+00 1.15632363e+03 6.48544521e+00\n",
      " 1.97145120e+03 6.99469854e+01]\n"
     ]
    }
   ],
   "source": [
    "# Visualizando mínimos por variable\n",
    "print(minimo_por_variable)"
   ]
  },
  {
   "cell_type": "code",
   "execution_count": 23,
   "id": "75978929-902b-4590-b2e6-49a687b7a42a",
   "metadata": {
    "collapsed": false
   },
   "outputs": [],
   "source": [
    "# Calcula el rango de cada variable\n",
    "rango_por_variable = np.nanmax(set_de_entrenamiento, axis=0) - np.nanmin(set_de_entrenamiento, axis=0)"
   ]
  },
  {
   "cell_type": "code",
   "execution_count": 24,
   "id": "dd5e42bd-ed1f-42ed-a606-34300eaa32d2",
   "metadata": {
    "collapsed": false
   },
   "outputs": [
    {
     "name": "stdout",
     "output_type": "stream",
     "text": [
      "[7.201e+05 9.000e+00 2.894e+03 1.200e+01 1.350e+02 2.920e+02]\n"
     ]
    }
   ],
   "source": [
    "# Visualizando el rango (peak to peak) por variable\n",
    "print(rango_por_variable)"
   ]
  },
  {
   "cell_type": "code",
   "execution_count": 25,
   "id": "2eb3b245-3d30-4572-856d-76250a0d0742",
   "metadata": {
    "collapsed": false
   },
   "outputs": [],
   "source": [
    "# Calcula la desviación estándar de cada variable\n",
    "desviacion_estandar_por_variable = np.nanstd(set_de_entrenamiento, axis=0)"
   ]
  },
  {
   "cell_type": "code",
   "execution_count": 26,
   "id": "b78675f0-c0e7-4775-bb62-91577c1778c6",
   "metadata": {
    "collapsed": false
   },
   "outputs": [
    {
     "name": "stdout",
     "output_type": "stream",
     "text": [
      "[7.87819511e+04 1.37743519e+00 3.73620332e+02 1.60845172e+00\n",
      " 2.99388821e+01 2.34659548e+01]\n"
     ]
    }
   ],
   "source": [
    "# Visualizando la desviación estándar por variable\n",
    "print(desviacion_estandar_por_variable)"
   ]
  },
  {
   "cell_type": "markdown",
   "id": "1e2024a0-ddc9-4ee0-99df-5966fce38836",
   "metadata": {
    "collapsed": false
   },
   "source": [
    "## Para cada variable en el dataset usar seaborn(función distplot https://seaborn.pydata.org/generated/seaborn.distplot.html) para graficar un histograma de la variable.\n"
   ]
  },
  {
   "cell_type": "code",
   "execution_count": 31,
   "id": "af897597-0603-4f09-82a4-f79888751daf",
   "metadata": {
    "collapsed": false
   },
   "outputs": [
    {
     "data": {
      "image/png": "[encoded data removed]",
      "text/plain": [
       "<Figure size 813.5x500 with 1 Axes>"
      ]
     },
     "metadata": {},
     "output_type": "display_data"
    }
   ],
   "source": [
    "# Configura el estilo de las gráficas\n",
    "sns.set(style=\"whitegrid\")\n",
    "\n",
    "# Crea un objeto de tipo FacetGrid utilizando displot\n",
    "g = sns.displot(data=set_de_entrenamiento, kind=\"hist\", kde=False, height=5, aspect=1.5)\n",
    "\n",
    "# Añade etiquetas y título\n",
    "g.set_axis_labels(x_var='Valor', y_var='Frecuencia')\n",
    "g.fig.suptitle('Histograma de cada variable')\n",
    "\n",
    "# Muestra la gráfica\n",
    "plt.show()"
   ]
  },
  {
   "cell_type": "code",
   "execution_count": null,
   "id": "3e35f2f4-51a4-4058-976b-55e0357f8b18",
   "metadata": {
    "collapsed": false
   },
   "outputs": [],
   "source": []
  }
 ],
 "metadata": {
  "kernelspec": {
   "argv": [
    "/Users/luistun/anaconda3/bin/python",
    "-m",
    "ipykernel_launcher",
    "-f",
    "{connection_file}"
   ],
   "display_name": "Python 3 (ipykernel)",
   "env": null,
   "interrupt_mode": "signal",
   "language": "python",
   "metadata": {
    "debugger": true
   },
   "name": "python3"
  },
  "language_info": {
   "codemirror_mode": {
    "name": "ipython",
    "version": 3
   },
   "file_extension": ".py",
   "mimetype": "text/x-python",
   "name": "python",
   "nbconvert_exporter": "python",
   "pygments_lexer": "ipython3",
   "version": "3.11.8"
  },
  "name": "22003085_LuisTun_Proyecto1.ipynb"
 },
 "nbformat": 4,
 "nbformat_minor": 5
}
