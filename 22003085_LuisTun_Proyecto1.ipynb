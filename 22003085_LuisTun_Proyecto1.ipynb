{
 "cells": [
  {
   "cell_type": "markdown",
   "id": "7cef23de-8411-499a-8244-baf88b1ba155",
   "metadata": {
    "collapsed": false
   },
   "source": [
    "# Nombre: Luis Ricardo Tun Aguilar\n",
    "# Carnet: 22003085"
   ]
  },
  {
   "cell_type": "markdown",
   "id": "da99cc4c-222d-4984-a545-f86fcccb704e",
   "metadata": {
    "collapsed": false
   },
   "source": [
    "# Proyecto No. 1"
   ]
  },
  {
   "cell_type": "code",
   "execution_count": null,
   "id": "511aa0c3-b092-41ec-b4e0-448aab2d123d",
   "metadata": {
    "collapsed": false
   },
   "outputs": [],
   "source": []
  }
 ],
 "metadata": {
  "kernelspec": {
   "argv": [
    "python",
    "-m",
    "ipykernel_launcher",
    "-f",
    "{connection_file}"
   ],
   "display_name": "Python 3 (ipykernel)",
   "env": null,
   "interrupt_mode": "signal",
   "language": "python",
   "metadata": {
    "debugger": true
   },
   "name": "python3"
  },
  "name": "22003085_LuisTun_Proyecto1.ipynb"
 },
 "nbformat": 4,
 "nbformat_minor": 5
}
