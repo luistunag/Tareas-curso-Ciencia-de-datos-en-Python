{
 "cells": [
  {
   "cell_type": "markdown",
   "id": "7cef23de-8411-499a-8244-baf88b1ba155",
   "metadata": {
    "collapsed": false,
    "jupyter": {
     "outputs_hidden": false
    }
   },
   "source": [
    "# Nombre: Luis Ricardo Tun Aguilar\n",
    "# Carnet: 22003085\n"
   ]
  },
  {
   "cell_type": "markdown",
   "id": "da99cc4c-222d-4984-a545-f86fcccb704e",
   "metadata": {
    "collapsed": false,
    "jupyter": {
     "outputs_hidden": false
    }
   },
   "source": [
    "# Proyecto No. 1\n"
   ]
  },
  {
   "cell_type": "markdown",
   "id": "dc64301f-ba40-47df-8da3-0b618f132297",
   "metadata": {
    "collapsed": false,
    "jupyter": {
     "outputs_hidden": false
    }
   },
   "source": [
    "## 1. Crear un entorno de anaconda con los paquetes que considere necesarios.\n"
   ]
  },
  {
   "cell_type": "markdown",
   "id": "45d52275-1010-410c-bf8b-ba0cae25532b",
   "metadata": {
    "collapsed": false,
    "jupyter": {
     "outputs_hidden": false
    }
   },
   "source": [
    "## Entorno creado con el comando\n",
    "\n",
    "conda create --name proyecto_env python=3.11\n",
    "\n",
    "## Las librerías necesarias fueron instaladas con los comandos\n",
    "\n",
    "conda install matplotlib \n",
    "\n",
    "conda install seaborn \n",
    "\n",
    "conda install numpy \n",
    "\n",
    "conda install pandas \n",
    "\n",
    "conda install scikit-learn"
   ]
  },
  {
   "cell_type": "markdown",
   "id": "c84a1675-3b71-40af-9b33-371ca02cb531",
   "metadata": {
    "collapsed": false,
    "jupyter": {
     "outputs_hidden": false
    }
   },
   "source": [
    "## 2. Usando sclicing con NumPy separar los datos en 2 datasets: entrenamiento(80 %) y validación y pruebas(20 %).\n"
   ]
  },
  {
   "cell_type": "code",
   "execution_count": 1,
   "id": "18babcbf-f029-4cfc-bb52-d54363b9cf4c",
   "metadata": {
    "collapsed": false,
    "jupyter": {
     "outputs_hidden": false
    }
   },
   "outputs": [],
   "source": [
    "# Importa las librerías\n",
    "import numpy as np\n",
    "import pandas as pd\n",
    "import seaborn as sns\n",
    "import matplotlib.pyplot as plt"
   ]
  },
  {
   "cell_type": "code",
   "execution_count": 2,
   "id": "1c326785-4570-4d14-ab8a-38efb0f7694e",
   "metadata": {
    "collapsed": false,
    "jupyter": {
     "outputs_hidden": false
    }
   },
   "outputs": [],
   "source": [
    "# Define el directorio de los datos a trabajar\n",
    "path_data = \"/Users/luistun/Maestria/curso_ciencia_datos_python/proyecto_data/\""
   ]
  },
  {
   "cell_type": "code",
   "execution_count": 3,
   "id": "fd2ba437-a51f-44df-872b-0ca656eefc13",
   "metadata": {
    "collapsed": false,
    "jupyter": {
     "outputs_hidden": false
    }
   },
   "outputs": [],
   "source": [
    "# Carga el archivo\n",
    "datos = np.load(path_data + 'proyecto_training_data.npy')"
   ]
  },
  {
   "cell_type": "code",
   "execution_count": 4,
   "id": "6771c9d2-a8e1-4945-a005-61f86bc758b0",
   "metadata": {
    "collapsed": false,
    "jupyter": {
     "outputs_hidden": false
    }
   },
   "outputs": [
    {
     "data": {
      "text/plain": [
       "array([[2.08500e+05, 7.00000e+00, 8.56000e+02, 8.00000e+00, 2.00300e+03,\n",
       "        6.50000e+01],\n",
       "       [1.81500e+05, 6.00000e+00, 1.26200e+03, 6.00000e+00, 1.97600e+03,\n",
       "        8.00000e+01],\n",
       "       [2.23500e+05, 7.00000e+00, 9.20000e+02, 6.00000e+00, 2.00100e+03,\n",
       "        6.80000e+01],\n",
       "       ...,\n",
       "       [2.66500e+05, 7.00000e+00, 1.18800e+03, 9.00000e+00, 1.94100e+03,\n",
       "        6.60000e+01],\n",
       "       [1.42125e+05, 5.00000e+00, 1.07800e+03, 5.00000e+00, 1.95000e+03,\n",
       "        6.80000e+01],\n",
       "       [1.47500e+05, 5.00000e+00, 1.25600e+03, 6.00000e+00, 1.96500e+03,\n",
       "        7.50000e+01]])"
      ]
     },
     "execution_count": 4,
     "metadata": {},
     "output_type": "execute_result"
    }
   ],
   "source": [
    "# Visualiza los datos\n",
    "datos"
   ]
  },
  {
   "cell_type": "code",
   "execution_count": 5,
   "id": "c3ea6c81-0991-409e-9e91-475e4dc30dad",
   "metadata": {
    "collapsed": false,
    "jupyter": {
     "outputs_hidden": false
    }
   },
   "outputs": [
    {
     "data": {
      "text/plain": [
       "(1460, 6)"
      ]
     },
     "execution_count": 5,
     "metadata": {},
     "output_type": "execute_result"
    }
   ],
   "source": [
    "# Obtener la dimensión de datos\n",
    "datos.shape"
   ]
  },
  {
   "cell_type": "code",
   "execution_count": 6,
   "id": "e2c4922e-835d-4732-82d3-401d1fcd3a68",
   "metadata": {
    "collapsed": false,
    "jupyter": {
     "outputs_hidden": false
    }
   },
   "outputs": [],
   "source": [
    "# Calcula el índice que representa el 80% de las filas\n",
    "indice_80_por_ciento = int(0.8 * datos.shape[0])"
   ]
  },
  {
   "cell_type": "code",
   "execution_count": 7,
   "id": "cc814233-1c00-4f21-9177-b568d6d1819d",
   "metadata": {
    "collapsed": false,
    "jupyter": {
     "outputs_hidden": false
    }
   },
   "outputs": [],
   "source": [
    "# Divide los datos en conjuntos de entrenamiento y validación\n",
    "set_de_entrenamiento = datos[:indice_80_por_ciento, :]\n",
    "set_de_validacion = datos[indice_80_por_ciento:, :]"
   ]
  },
  {
   "cell_type": "code",
   "execution_count": null,
   "id": "819d9165-7147-4920-bbc7-91385acf23ed",
   "metadata": {
    "collapsed": false
   },
   "outputs": [],
   "source": []
  }
 ],
 "metadata": {
  "kernelspec": {
   "argv": [
    "/Users/luistun/anaconda3/bin/python",
    "-m",
    "ipykernel_launcher",
    "-f",
    "{connection_file}"
   ],
   "display_name": "Python 3 (ipykernel)",
   "env": null,
   "interrupt_mode": "signal",
   "language": "python",
   "metadata": {
    "debugger": true
   },
   "name": "python3"
  },
  "language_info": {
   "codemirror_mode": {
    "name": "ipython",
    "version": 3
   },
   "file_extension": ".py",
   "mimetype": "text/x-python",
   "name": "python",
   "nbconvert_exporter": "python",
   "pygments_lexer": "ipython3",
   "version": "3.11.8"
  },
  "name": "22003085_LuisTun_Proyecto1.ipynb"
 },
 "nbformat": 4,
 "nbformat_minor": 5
}
